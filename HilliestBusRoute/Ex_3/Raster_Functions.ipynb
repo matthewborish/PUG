{
 "cells": [
  {
   "cell_type": "code",
   "execution_count": 1,
   "metadata": {},
   "outputs": [],
   "source": [
    "import os\n",
    "import sys\n",
    "import ogr\n",
    "from gdalconst import *\n",
    "import osgeo.gdal as gdal\n",
    "import numpy as np\n",
    "import matplotlib.pyplot as plt"
   ]
  },
  {
   "cell_type": "code",
   "execution_count": 2,
   "metadata": {},
   "outputs": [],
   "source": [
    "# Create path to data directory, make sure it exists\n",
    "data_dir = os.path.join(os.path.normpath(os.getcwd() + os.sep + os.pardir),\"Data\")\n",
    "assert os.path.isdir"
   ]
  },
  {
   "cell_type": "code",
   "execution_count": 4,
   "metadata": {},
   "outputs": [],
   "source": [
    "# Define paths to image file and shape files + make sure it exists\n",
    "imgf = os.path.join(data_dir, \"PDX_DEM_WGS84_UTM10N_Zm_INT16.tif\")\n",
    "assert os.path.isfile(imgf)"
   ]
  },
  {
   "cell_type": "code",
   "execution_count": 6,
   "metadata": {},
   "outputs": [],
   "source": [
    "# What are some things that we need to be able to do to a raster\n",
    "\n",
    "# 1. look up # of bands\n",
    "# 2. look up rows/cols\n",
    "# 3. look up projection\n",
    "# 4. look up geotransform\n",
    "# 5. look up data type\n",
    "# 6. get BBOX of raster\n",
    "# 7. read all the data into memory\n",
    "# 8. read a chunk of data into memory\n",
    "# 9. write array to disk  (skipping)\n",
    "# 10. write part of an array to disk (skipping)\n"
   ]
  },
  {
   "cell_type": "markdown",
   "metadata": {},
   "source": [
    "## Find Number of Bands"
   ]
  },
  {
   "cell_type": "code",
   "execution_count": 7,
   "metadata": {},
   "outputs": [
    {
     "data": {
      "text/plain": [
       "1"
      ]
     },
     "execution_count": 7,
     "metadata": {},
     "output_type": "execute_result"
    }
   ],
   "source": [
    "def get_bandcount(file_path):\n",
    "    assert os.path.isfile(file_path)\n",
    "    ds = gdal.Open(file_path, GA_ReadOnly)\n",
    "    n_bands = ds.RasterCount\n",
    "    return n_bands\n",
    "    \n",
    "get_bandcount(imgf)"
   ]
  },
  {
   "cell_type": "markdown",
   "metadata": {},
   "source": [
    "## Find Rows/Columns"
   ]
  },
  {
   "cell_type": "code",
   "execution_count": 9,
   "metadata": {},
   "outputs": [
    {
     "data": {
      "text/plain": [
       "(3951, 6161)"
      ]
     },
     "execution_count": 9,
     "metadata": {},
     "output_type": "execute_result"
    }
   ],
   "source": [
    "def get_rowcols(file_path):\n",
    "    assert os.path.isfile(file_path)\n",
    "    ds = gdal.Open(file_path, GA_ReadOnly)\n",
    "    rows = ds.RasterYSize\n",
    "    cols = ds.RasterXSize\n",
    "    return rows, cols\n",
    "\n",
    "get_rowcols(imgf)"
   ]
  },
  {
   "cell_type": "markdown",
   "metadata": {},
   "source": [
    "## Find Projection"
   ]
  },
  {
   "cell_type": "code",
   "execution_count": 10,
   "metadata": {},
   "outputs": [
    {
     "data": {
      "text/plain": [
       "'PROJCS[\"WGS 84 / UTM zone 10N\",GEOGCS[\"WGS 84\",DATUM[\"WGS_1984\",SPHEROID[\"WGS 84\",6378137,298.257223563,AUTHORITY[\"EPSG\",\"7030\"]],AUTHORITY[\"EPSG\",\"6326\"]],PRIMEM[\"Greenwich\",0,AUTHORITY[\"EPSG\",\"8901\"]],UNIT[\"degree\",0.0174532925199433,AUTHORITY[\"EPSG\",\"9122\"]],AUTHORITY[\"EPSG\",\"4326\"]],PROJECTION[\"Transverse_Mercator\"],PARAMETER[\"latitude_of_origin\",0],PARAMETER[\"central_meridian\",-123],PARAMETER[\"scale_factor\",0.9996],PARAMETER[\"false_easting\",500000],PARAMETER[\"false_northing\",0],UNIT[\"metre\",1,AUTHORITY[\"EPSG\",\"9001\"]],AXIS[\"Easting\",EAST],AXIS[\"Northing\",NORTH],AUTHORITY[\"EPSG\",\"32610\"]]'"
      ]
     },
     "execution_count": 10,
     "metadata": {},
     "output_type": "execute_result"
    }
   ],
   "source": [
    "def get_projection(file_path):\n",
    "    assert os.path.isfile(file_path)\n",
    "    ds = gdal.Open(file_path, GA_ReadOnly)\n",
    "    proj = ds.GetProjection()\n",
    "    return proj\n",
    "\n",
    "get_projection(imgf)\n"
   ]
  },
  {
   "cell_type": "markdown",
   "metadata": {},
   "source": [
    "## Find GeoTransform"
   ]
  },
  {
   "cell_type": "code",
   "execution_count": 11,
   "metadata": {},
   "outputs": [
    {
     "data": {
      "text/plain": [
       "(490893.2197361471, 10.0, 0.0, 5054008.957242726, 0.0, -10.0)"
      ]
     },
     "execution_count": 11,
     "metadata": {},
     "output_type": "execute_result"
    }
   ],
   "source": [
    "def get_geotransform(file_path):\n",
    "    assert os.path.isfile(file_path)\n",
    "    ds = gdal.Open(file_path, GA_ReadOnly)\n",
    "    gt = ds.GetGeoTransform()\n",
    "    return gt\n",
    "\n",
    "get_geotransform(imgf)"
   ]
  },
  {
   "cell_type": "markdown",
   "metadata": {},
   "source": [
    "## Find Datatype of array"
   ]
  },
  {
   "cell_type": "code",
   "execution_count": 12,
   "metadata": {},
   "outputs": [
    {
     "data": {
      "text/plain": [
       "3"
      ]
     },
     "execution_count": 12,
     "metadata": {},
     "output_type": "execute_result"
    }
   ],
   "source": [
    "def get_native_dtype(file_path):\n",
    "    assert os.path.isfile(file_path)\n",
    "    ds = gdal.Open(file_path, GA_ReadOnly)\n",
    "    gdal_dtype = ds.GetRasterBand(1).DataType\n",
    "    return gdal_dtype\n",
    "\n",
    "get_native_dtype(imgf)"
   ]
  },
  {
   "cell_type": "markdown",
   "metadata": {},
   "source": [
    "## Find BBOX of array"
   ]
  },
  {
   "cell_type": "code",
   "execution_count": 17,
   "metadata": {},
   "outputs": [
    {
     "data": {
      "text/plain": [
       "(5054008.957242726, 490893.2197361471, 5014498.957242726, 552503.2197361471)"
      ]
     },
     "execution_count": 17,
     "metadata": {},
     "output_type": "execute_result"
    }
   ],
   "source": [
    "def get_bbox(file_path):\n",
    "    assert os.path.isfile(file_path)\n",
    "    ds = gdal.Open(file_path, GA_ReadOnly)\n",
    "    gt = ds.GetGeoTransform()\n",
    "    rows = ds.RasterYSize\n",
    "    cols = ds.RasterXSize\n",
    "    ulx = gt[0]\n",
    "    uly = gt[3]\n",
    "    lrx = ulx + (cols * gt[1])\n",
    "    lry = uly + (rows * gt[5])\n",
    "    # Return in NWSWE Order\n",
    "    return uly, ulx, lry, lrx\n",
    "\n",
    "get_bbox(imgf)"
   ]
  },
  {
   "cell_type": "markdown",
   "metadata": {},
   "source": [
    "## 7. Read all the data into memory"
   ]
  },
  {
   "cell_type": "code",
   "execution_count": 20,
   "metadata": {},
   "outputs": [
    {
     "data": {
      "text/plain": [
       "array([[[ 63,  62,  62, ..., -99, -99, -99],\n",
       "        [ 62,  62,  61, ..., -99, -99, -99],\n",
       "        [ 62,  61,  61, ..., -99, -99, -99],\n",
       "        ...,\n",
       "        [ 66,  66,  66, ..., 118, 119, 119],\n",
       "        [ 66,  66,  67, ..., 117, 118, 118],\n",
       "        [ 67,  67,  68, ..., 118, 117, 117]]], dtype=int16)"
      ]
     },
     "execution_count": 20,
     "metadata": {},
     "output_type": "execute_result"
    }
   ],
   "source": [
    "def read_all(file_path):\n",
    "    assert os.path.isfile(file_path)\n",
    "    ds = gdal.Open(file_path, GA_ReadOnly)\n",
    "    n_bands = ds.RasterCount\n",
    "    rows = ds.RasterYSize\n",
    "    cols = ds.RasterXSize\n",
    "    array = np.array([ds.GetRasterBand(i + 1).ReadAsArray(0, 0, cols, rows)\n",
    "                                  for i in range(n_bands)])\n",
    "    return array\n",
    "\n",
    "read_all(imgf)"
   ]
  },
  {
   "cell_type": "code",
   "execution_count": 21,
   "metadata": {},
   "outputs": [],
   "source": [
    "# What are some assumptions we made in this function?\n",
    "# 1. All the data will fit into memory\n",
    "# 2. User wants data as 3D array\n",
    "\n",
    "# How Could we fix these?\n",
    "# 1. Calculate array size in memory ahead of extracting \n",
    "#     and raise an error if expected memory is greater than available\n",
    "# 2. Reformat the array to 2D if only a single band"
   ]
  },
  {
   "cell_type": "code",
   "execution_count": null,
   "metadata": {},
   "outputs": [],
   "source": [
    "# How could we make the function more dynamic?\n",
    "# 1. Allow user to specify \"window\" to extract\n",
    "# 2. Allow user to specify datatype to return\n",
    "# 3. Include Error Raise if available memory will be exceeded\n",
    "# 4. Allow user to specify a list of bands to extract if multi-band"
   ]
  },
  {
   "cell_type": "markdown",
   "metadata": {},
   "source": [
    "## 8. Read a chunk of data into memory"
   ]
  },
  {
   "cell_type": "code",
   "execution_count": 91,
   "metadata": {},
   "outputs": [],
   "source": [
    "def numpy_dtype_to_gdal(nptype):\n",
    "    \"\"\"\n",
    "    Convert numpy data type to GDAL data type\n",
    "\n",
    "    Parameters\n",
    "    ----------\n",
    "    nptype\n",
    "    Returns\n",
    "    -------\n",
    "\n",
    "    \"\"\"\n",
    "\n",
    "    if nptype == np.bool:\n",
    "        return gdal.GDT_Byte\n",
    "    elif nptype == np.uint8:\n",
    "        return gdal.GDT_Byte\n",
    "    elif nptype == np.uint16:\n",
    "        return gdal.GDT_UInt16\n",
    "    elif nptype == np.uint32:\n",
    "        return gdal.GDT_UInt32\n",
    "    elif nptype == np.int16:\n",
    "        return gdal.GDT_Int16\n",
    "    elif nptype == np.int32:\n",
    "        return gdal.GDT_Int32\n",
    "    elif nptype == np.int64:\n",
    "        return gdal.GDT_Int32\n",
    "    elif nptype == np.float32:\n",
    "        return gdal.GDT_Float32\n",
    "    elif nptype == np.float64:\n",
    "        return gdal.GDT_Float64\n",
    "    elif nptype == np.complex64:\n",
    "        return gdal.GDT_CFloat32\n",
    "    elif nptype == np.complex128:\n",
    "        return gdal.GDT_CFloat64\n",
    "    else:\n",
    "        raise ValueError(\"invalid numpy datatype provided\")\n",
    "\n",
    "def read_subset(file_path, band_list=None, tp=None, x_off=0, y_off=0, x_win=None, y_win=None):\n",
    "    assert os.path.isfile(file_path)\n",
    "    ds = gdal.Open(file_path, GA_ReadOnly)\n",
    "    n_bands = ds.RasterCount\n",
    "    rows = ds.RasterYSize\n",
    "    cols = ds.RasterXSize\n",
    "    \n",
    "    if ds is None:\n",
    "        raise IOError(\"bad path\")\n",
    "    ### Check optional arguments to make sure they are all valid -- LETS RAISE SOME ERRORS ###\n",
    "    \n",
    "    # BAND_LIST needs to be a list of integers, even if it is only 1 band.\n",
    "    # First check to see if it was supplied - if not, make band_list all the bands               \n",
    "    if band_list is None:\n",
    "        band_list = [i+1 for i in range(n_bands)]\n",
    "        \n",
    "    # now that we have solved the None case, make sure band_list is a list not an int/tuple/etc.\n",
    "    if not isinstance(band_list, list):\n",
    "        raise TypeError(\"band_list is not a list - even single bands need to go in a list\")\n",
    "    \n",
    "    # ds.GetRasterBand() starts counting at 1 so lets make sure the list doesn't have a 0.\n",
    "    if 0 in band_list:\n",
    "        raise ValueError(\"band_list contains a 0, please start your list at 1...\")\n",
    "        \n",
    "    \n",
    "    # Type -- lets make a decision to force users to provdie numpy data types, and then we can change them to gdal\n",
    "    if tp is not None:\n",
    "        try:\n",
    "            gdal_tp = numpy_dtype_to_gdal(tp)\n",
    "        except:\n",
    "            raise TypeError(\"user needs to provide a valid numpy datatype\")\n",
    "            \n",
    "    else:\n",
    "        gdal_tp = ds.GetRasterBand(1).DataType\n",
    "\n",
    "    # Lets write down the rules for x_off/y_off\n",
    "    # 1. Must be an Integer (handle w/ ValueError)\n",
    "    # 2. Must not be negative (handle w/ ValueError)\n",
    "    # 3. Must not be greater than rows/columns, respectively(handle w/ ValueError)\n",
    "    if (x_off is None) or (y_off is None):\n",
    "        raise ValueError(\"x_off and y_off cannot be None\")\n",
    "    \n",
    "    if (x_off < 0) or (y_off < 0):\n",
    "        raise ValueError(\"x_off and y_off cannot be negative\")\n",
    "\n",
    "    if (x_off >= cols) or (y_off >= rows):\n",
    "        raise ValueError(\"x_off and y_off cannot be greaterthan/equal to rows/columns\")\n",
    "        \n",
    "    # Lets write down the rules for x_window/y_window if not None\n",
    "    # 1. x_window and y_window need to be greater than 0\n",
    "    # 3. x_off + x_window and y_off + y_window need to be less than cols/rows (handle with ValueError)\n",
    "    \n",
    "    if x_win is None:\n",
    "        x_win = cols - x_off\n",
    "    if y_win is None:\n",
    "        y_win = rows - y_off\n",
    "    \n",
    "    if (x_win <= 0) or (y_win <= 0):\n",
    "        raise ValueError(\"x_window and y_window must be greater than 0\")\n",
    "    if ((x_off + x_win) > cols) or ((y_off + y_win) > rows):\n",
    "        raise ValueError(\" x_off + x_window and y_off + y_window need to be less than cols/rows\")\n",
    "                \n",
    "\n",
    "    array = np.array([ds.GetRasterBand(i).ReadAsArray(x_off, y_off,\n",
    "                                                      x_win, y_win,\n",
    "                                                      buf_type=gdal_tp) for i in band_list])\n",
    "    if array.shape[0] == 1:\n",
    "        return array[0]\n",
    "    else:\n",
    "        return array\n",
    "\n",
    "data = read_subset(imgf, tp=np.float32)"
   ]
  },
  {
   "cell_type": "markdown",
   "metadata": {},
   "source": [
    "## Okay this is cool, but now what?"
   ]
  },
  {
   "cell_type": "code",
   "execution_count": 92,
   "metadata": {},
   "outputs": [],
   "source": [
    "# Well lets make some plots"
   ]
  },
  {
   "cell_type": "code",
   "execution_count": null,
   "metadata": {},
   "outputs": [],
   "source": []
  },
  {
   "cell_type": "code",
   "execution_count": null,
   "metadata": {},
   "outputs": [],
   "source": []
  },
  {
   "cell_type": "code",
   "execution_count": null,
   "metadata": {},
   "outputs": [],
   "source": []
  },
  {
   "cell_type": "code",
   "execution_count": null,
   "metadata": {},
   "outputs": [],
   "source": []
  }
 ],
 "metadata": {
  "kernelspec": {
   "display_name": "Python 3",
   "language": "python",
   "name": "python3"
  },
  "language_info": {
   "codemirror_mode": {
    "name": "ipython",
    "version": 3
   },
   "file_extension": ".py",
   "mimetype": "text/x-python",
   "name": "python",
   "nbconvert_exporter": "python",
   "pygments_lexer": "ipython3",
   "version": "3.7.2"
  }
 },
 "nbformat": 4,
 "nbformat_minor": 2
}
