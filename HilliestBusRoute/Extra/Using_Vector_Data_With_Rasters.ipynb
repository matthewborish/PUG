{
 "cells": [
  {
   "cell_type": "code",
   "execution_count": 1,
   "metadata": {},
   "outputs": [],
   "source": [
    "import sys\n",
    "import os\n",
    "import rasterio\n",
    "import fiona\n",
    "import numpy as np\n",
    "import concurrent.futures"
   ]
  },
  {
   "cell_type": "code",
   "execution_count": 2,
   "metadata": {},
   "outputs": [],
   "source": [
    "shpf = r\"D:\\Zach_Working\\02_Scratch\\PUG\\HilliestBusRoute\\Data\\Random_Buffers.shp\"\n",
    "imgf = r\"D:\\Zach_Working\\02_Scratch\\PUG\\HilliestBusRoute\\Data\\PDX_DEM_WGS84_UTM10N_Zm_INT16_ENVI\"\n",
    "test_out = imgf+\"_test\""
   ]
  },
  {
   "cell_type": "code",
   "execution_count": 3,
   "metadata": {},
   "outputs": [],
   "source": [
    "def scale(input_data):\n",
    "    return input_data*3\n",
    "\n",
    "num_workers = 8\n",
    "with rasterio.Env():\n",
    "\n",
    "    with rasterio.open(imgf) as src:\n",
    "\n",
    "        # Create a destination dataset based on source params. The\n",
    "        # destination will be tiled, and we'll process the tiles\n",
    "        # concurrently.\n",
    "        profile = src.profile\n",
    "        profile.update(blockxsize=128, blockysize=128, tiled=True)\n",
    "\n",
    "        with rasterio.open(test_out, \"w\", **profile) as dst:\n",
    "\n",
    "            # Materialize a list of destination block windows\n",
    "            # that we will use in several statements below.\n",
    "            windows = [window for ij, window in dst.block_windows()]\n",
    "\n",
    "            # This generator comprehension gives us raster data\n",
    "            # arrays for each window. Later we will zip a mapping\n",
    "            # of it with the windows list to get (window, result)\n",
    "            # pairs.\n",
    "            data_gen = (src.read(window=window) for window in windows[:2000])\n",
    "\n",
    "            with concurrent.futures.ThreadPoolExecutor(max_workers=num_workers) as executor:\n",
    "\n",
    "                # We map the compute() function over the raster\n",
    "                # data generator, zip the resulting iterator with\n",
    "                # the windows list, and as pairs come back we\n",
    "                # write data to the destination dataset.\n",
    "                for window, result in zip(windows, executor.map(scale, data_gen)):\n",
    "                    dst.write(result, window=window)"
   ]
  },
  {
   "cell_type": "code",
   "execution_count": null,
   "metadata": {},
   "outputs": [],
   "source": []
  },
  {
   "cell_type": "code",
   "execution_count": null,
   "metadata": {},
   "outputs": [],
   "source": []
  },
  {
   "cell_type": "code",
   "execution_count": null,
   "metadata": {},
   "outputs": [],
   "source": []
  },
  {
   "cell_type": "code",
   "execution_count": null,
   "metadata": {},
   "outputs": [],
   "source": []
  },
  {
   "cell_type": "code",
   "execution_count": null,
   "metadata": {},
   "outputs": [],
   "source": []
  },
  {
   "cell_type": "code",
   "execution_count": null,
   "metadata": {},
   "outputs": [],
   "source": []
  },
  {
   "cell_type": "code",
   "execution_count": null,
   "metadata": {},
   "outputs": [],
   "source": []
  },
  {
   "cell_type": "code",
   "execution_count": null,
   "metadata": {},
   "outputs": [],
   "source": []
  },
  {
   "cell_type": "code",
   "execution_count": null,
   "metadata": {},
   "outputs": [],
   "source": []
  },
  {
   "cell_type": "code",
   "execution_count": null,
   "metadata": {},
   "outputs": [],
   "source": []
  },
  {
   "cell_type": "code",
   "execution_count": null,
   "metadata": {},
   "outputs": [],
   "source": [
    "\n",
    "    "
   ]
  },
  {
   "cell_type": "code",
   "execution_count": null,
   "metadata": {},
   "outputs": [],
   "source": []
  }
 ],
 "metadata": {
  "kernelspec": {
   "display_name": "Python 3",
   "language": "python",
   "name": "python3"
  },
  "language_info": {
   "codemirror_mode": {
    "name": "ipython",
    "version": 3
   },
   "file_extension": ".py",
   "mimetype": "text/x-python",
   "name": "python",
   "nbconvert_exporter": "python",
   "pygments_lexer": "ipython3",
   "version": "3.7.2"
  }
 },
 "nbformat": 4,
 "nbformat_minor": 2
}
