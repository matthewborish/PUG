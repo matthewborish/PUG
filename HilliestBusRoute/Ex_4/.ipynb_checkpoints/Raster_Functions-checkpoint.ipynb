{
 "cells": [
  {
   "cell_type": "code",
   "execution_count": 1,
   "metadata": {},
   "outputs": [],
   "source": [
    "import os\n",
    "import sys\n",
    "import ogr\n",
    "from gdalconst import *\n",
    "import osgeo.gdal as gdal\n",
    "import numpy as np\n",
    "import matplotlib.pyplot as plt"
   ]
  },
  {
   "cell_type": "code",
   "execution_count": 2,
   "metadata": {},
   "outputs": [],
   "source": [
    "# Create path to data directory, make sure it exists\n",
    "data_dir = os.path.join(os.path.normpath(os.getcwd() + os.sep + os.pardir),\"Data\")\n",
    "assert os.path.isdir"
   ]
  },
  {
   "cell_type": "code",
   "execution_count": 3,
   "metadata": {},
   "outputs": [],
   "source": [
    "# Define paths to image file and shape files + make sure it exists\n",
    "imgf = os.path.join(data_dir, \"PDX_DEM_WGS84_UTM10N_Zm_INT16.tif\")\n",
    "assert os.path.isfile(imgf)"
   ]
  },
  {
   "cell_type": "code",
   "execution_count": null,
   "metadata": {},
   "outputs": [],
   "source": [
    "# What are some things that we need to be able to do to a raster\n",
    "\n",
    "# 1. look up # of bands\n",
    "# 2. look up rows/cols\n",
    "# 3. look up projection\n",
    "# 4. look up geotransform\n",
    "# 5. look up data type\n",
    "# 6. get BBOX of raster\n",
    "# 7. read all the data into memory\n",
    "# 8. read a chunk of data into memory\n",
    "# 9. write array to disk  (skipping)\n",
    "# 10. write part of an array to disk (skipping)\n"
   ]
  },
  {
   "cell_type": "markdown",
   "metadata": {},
   "source": [
    "## Find Number of Bands"
   ]
  },
  {
   "cell_type": "code",
   "execution_count": null,
   "metadata": {},
   "outputs": [],
   "source": [
    "def get_bandcount(file_path):\n",
    "    assert os.path.isfile(file_path)\n",
    "    ds = gdal.Open(file_path, GA_ReadOnly)\n",
    "    n_bands = ds.RasterCount\n",
    "    return n_bands\n",
    "    \n",
    "get_bandcount(imgf)"
   ]
  },
  {
   "cell_type": "markdown",
   "metadata": {},
   "source": [
    "## Find Rows/Columns"
   ]
  },
  {
   "cell_type": "code",
   "execution_count": null,
   "metadata": {},
   "outputs": [],
   "source": [
    "def get_rowcols(file_path):\n",
    "    assert os.path.isfile(file_path)\n",
    "    ds = gdal.Open(file_path, GA_ReadOnly)\n",
    "    rows = ds.RasterYSize\n",
    "    cols = ds.RasterXSize\n",
    "    return rows, cols\n",
    "\n",
    "get_rowcols(imgf)"
   ]
  },
  {
   "cell_type": "markdown",
   "metadata": {},
   "source": [
    "## Find Projection"
   ]
  },
  {
   "cell_type": "code",
   "execution_count": null,
   "metadata": {},
   "outputs": [],
   "source": [
    "def get_projection(file_path):\n",
    "    assert os.path.isfile(file_path)\n",
    "    ds = gdal.Open(file_path, GA_ReadOnly)\n",
    "    proj = ds.GetProjection()\n",
    "    return proj\n",
    "\n",
    "get_projection(imgf)\n"
   ]
  },
  {
   "cell_type": "markdown",
   "metadata": {},
   "source": [
    "## Find GeoTransform"
   ]
  },
  {
   "cell_type": "code",
   "execution_count": null,
   "metadata": {},
   "outputs": [],
   "source": [
    "def get_geotransform(file_path):\n",
    "    assert os.path.isfile(file_path)\n",
    "    ds = gdal.Open(file_path, GA_ReadOnly)\n",
    "    gt = ds.GetGeoTransform()\n",
    "    return gt\n",
    "\n",
    "get_geotransform(imgf)"
   ]
  },
  {
   "cell_type": "markdown",
   "metadata": {},
   "source": [
    "## Find Datatype of array"
   ]
  },
  {
   "cell_type": "code",
   "execution_count": null,
   "metadata": {},
   "outputs": [],
   "source": [
    "def get_native_dtype(file_path):\n",
    "    assert os.path.isfile(file_path)\n",
    "    ds = gdal.Open(file_path, GA_ReadOnly)\n",
    "    gdal_dtype = ds.GetRasterBand(1).DataType\n",
    "    return gdal_dtype\n",
    "\n",
    "get_native_dtype(imgf)"
   ]
  },
  {
   "cell_type": "markdown",
   "metadata": {},
   "source": [
    "## Find BBOX of array"
   ]
  },
  {
   "cell_type": "code",
   "execution_count": null,
   "metadata": {},
   "outputs": [],
   "source": [
    "def get_bbox(file_path):\n",
    "    assert os.path.isfile(file_path)\n",
    "    ds = gdal.Open(file_path, GA_ReadOnly)\n",
    "    gt = ds.GetGeoTransform()\n",
    "    rows = ds.RasterYSize\n",
    "    cols = ds.RasterXSize\n",
    "    ulx = gt[0]\n",
    "    uly = gt[3]\n",
    "    lrx = ulx + (cols * gt[1])\n",
    "    lry = uly + (rows * gt[5])\n",
    "    # Return in NWSWE Order\n",
    "    return uly, ulx, lry, lrx\n",
    "\n",
    "get_bbox(imgf)"
   ]
  },
  {
   "cell_type": "markdown",
   "metadata": {},
   "source": [
    "## 7. Read all the data into memory"
   ]
  },
  {
   "cell_type": "code",
   "execution_count": null,
   "metadata": {},
   "outputs": [],
   "source": [
    "def read_all(file_path):\n",
    "    assert os.path.isfile(file_path)\n",
    "    ds = gdal.Open(file_path, GA_ReadOnly)\n",
    "    n_bands = ds.RasterCount\n",
    "    rows = ds.RasterYSize\n",
    "    cols = ds.RasterXSize\n",
    "    array = np.array([ds.GetRasterBand(i + 1).ReadAsArray(0, 0, cols, rows)\n",
    "                                  for i in range(n_bands)])\n",
    "    return array\n",
    "\n",
    "read_all(imgf)"
   ]
  },
  {
   "cell_type": "code",
   "execution_count": null,
   "metadata": {},
   "outputs": [],
   "source": [
    "# What are some assumptions we made in this function?\n",
    "# 1. All the data will fit into memory\n",
    "# 2. User wants data as 3D array\n",
    "\n",
    "# How Could we fix these?\n",
    "# 1. Calculate array size in memory ahead of extracting \n",
    "#     and raise an error if expected memory is greater than available\n",
    "# 2. Reformat the array to 2D if only a single band"
   ]
  },
  {
   "cell_type": "code",
   "execution_count": null,
   "metadata": {},
   "outputs": [],
   "source": [
    "# How could we make the function more dynamic?\n",
    "# 1. Allow user to specify \"window\" to extract\n",
    "# 2. Allow user to specify datatype to return\n",
    "# 3. Include Error Raise if available memory will be exceeded\n",
    "# 4. Allow user to specify a list of bands to extract if multi-band"
   ]
  },
  {
   "cell_type": "markdown",
   "metadata": {},
   "source": [
    "## 8. Read a chunk of data into memory"
   ]
  },
  {
   "cell_type": "code",
   "execution_count": null,
   "metadata": {},
   "outputs": [],
   "source": [
    "\n",
    "\n",
    "def read_subset(file_path, band_list=None, tp=None, x_off=0, y_off=0, x_win=None, y_win=None):\n",
    "    assert os.path.isfile(file_path)\n",
    "    ds = gdal.Open(file_path, GA_ReadOnly)\n",
    "    n_bands = ds.RasterCount\n",
    "    rows = ds.RasterYSize\n",
    "    cols = ds.RasterXSize\n",
    "    \n",
    "    if ds is None:\n",
    "        raise IOError(\"bad path\")\n",
    "    ### Check optional arguments to make sure they are all valid -- LETS RAISE SOME ERRORS ###\n",
    "    \n",
    "    # BAND_LIST needs to be a list of integers, even if it is only 1 band.\n",
    "    # First check to see if it was supplied - if not, make band_list all the bands               \n",
    "    if band_list is None:\n",
    "        band_list = [i+1 for i in range(n_bands)]\n",
    "        \n",
    "    # now that we have solved the None case, make sure band_list is a list not an int/tuple/etc.\n",
    "    if not isinstance(band_list, list):\n",
    "        raise TypeError(\"band_list is not a list - even single bands need to go in a list\")\n",
    "    \n",
    "    # ds.GetRasterBand() starts counting at 1 so lets make sure the list doesn't have a 0.\n",
    "    if 0 in band_list:\n",
    "        raise ValueError(\"band_list contains a 0, please start your list at 1...\")\n",
    "        \n",
    "    \n",
    "    # Type -- lets make a decision to force users to provdie numpy data types, and then we can change them to gdal\n",
    "    if tp is not None:\n",
    "        try:\n",
    "            gdal_tp = numpy_dtype_to_gdal(tp)\n",
    "        except:\n",
    "            raise TypeError(\"user needs to provide a valid numpy datatype\")\n",
    "            \n",
    "    else:\n",
    "        gdal_tp = ds.GetRasterBand(1).DataType\n",
    "\n",
    "    # Lets write down the rules for x_off/y_off\n",
    "    # 1. Must be an Integer (handle w/ ValueError)\n",
    "    # 2. Must not be negative (handle w/ ValueError)\n",
    "    # 3. Must not be greater than rows/columns, respectively(handle w/ ValueError)\n",
    "    if (x_off is None) or (y_off is None):\n",
    "        raise ValueError(\"x_off and y_off cannot be None\")\n",
    "    \n",
    "    if (x_off < 0) or (y_off < 0):\n",
    "        raise ValueError(\"x_off and y_off cannot be negative\")\n",
    "\n",
    "    if (x_off >= cols) or (y_off >= rows):\n",
    "        raise ValueError(\"x_off and y_off cannot be greaterthan/equal to rows/columns\")\n",
    "        \n",
    "    # Lets write down the rules for x_window/y_window if not None\n",
    "    # 1. x_window and y_window need to be greater than 0\n",
    "    # 3. x_off + x_window and y_off + y_window need to be less than cols/rows (handle with ValueError)\n",
    "    \n",
    "    if x_win is None:\n",
    "        x_win = cols - x_off\n",
    "    if y_win is None:\n",
    "        y_win = rows - y_off\n",
    "    \n",
    "    if (x_win <= 0) or (y_win <= 0):\n",
    "        raise ValueError(\"x_window and y_window must be greater than 0\")\n",
    "    if ((x_off + x_win) > cols) or ((y_off + y_win) > rows):\n",
    "        raise ValueError(\" x_off + x_window and y_off + y_window need to be less than cols/rows\")\n",
    "                \n",
    "\n",
    "    array = np.array([ds.GetRasterBand(i).ReadAsArray(x_off, y_off,\n",
    "                                                      x_win, y_win,\n",
    "                                                      buf_type=gdal_tp) for i in band_list])\n",
    "    if array.shape[0] == 1:\n",
    "        return array[0]\n",
    "    else:\n",
    "        return array\n",
    "\n",
    "data = read_subset(imgf, tp=np.float32)"
   ]
  },
  {
   "cell_type": "markdown",
   "metadata": {},
   "source": [
    "## Okay this is cool, but now what?"
   ]
  },
  {
   "cell_type": "code",
   "execution_count": null,
   "metadata": {},
   "outputs": [],
   "source": [
    "# What have you noticed about the above functions?\n",
    "    # - In most of the functions we are defining a similar set of variables in order to return information about the raster\n",
    "    #    this makes this set of functions perfect for putting in a class -- Lets do this below"
   ]
  },
  {
   "cell_type": "code",
   "execution_count": 16,
   "metadata": {},
   "outputs": [],
   "source": [
    "def numpy_dtype_to_gdal(nptype):\n",
    "    \"\"\"\n",
    "    Convert numpy data type to GDAL data type\n",
    "\n",
    "    Parameters\n",
    "    ----------\n",
    "    nptype\n",
    "    Returns\n",
    "    -------\n",
    "\n",
    "    \"\"\"\n",
    "\n",
    "    if nptype == np.bool:\n",
    "        return gdal.GDT_Byte\n",
    "    elif nptype == np.uint8:\n",
    "        return gdal.GDT_Byte\n",
    "    elif nptype == np.uint16:\n",
    "        return gdal.GDT_UInt16\n",
    "    elif nptype == np.uint32:\n",
    "        return gdal.GDT_UInt32\n",
    "    elif nptype == np.int16:\n",
    "        return gdal.GDT_Int16\n",
    "    elif nptype == np.int32:\n",
    "        return gdal.GDT_Int32\n",
    "    elif nptype == np.int64:\n",
    "        return gdal.GDT_Int32\n",
    "    elif nptype == np.float32:\n",
    "        return gdal.GDT_Float32\n",
    "    elif nptype == np.float64:\n",
    "        return gdal.GDT_Float64\n",
    "    elif nptype == np.complex64:\n",
    "        return gdal.GDT_CFloat32\n",
    "    elif nptype == np.complex128:\n",
    "        return gdal.GDT_CFloat64\n",
    "    else:\n",
    "        raise ValueError(\"invalid numpy datatype provided\")\n",
    "        \n",
    "def gdal_dtype_to_numpy(gdal_dtype):\n",
    "    \"\"\"\n",
    "    Convert GDAL data type into numpy data type\n",
    "\n",
    "    Parameters\n",
    "    ----------\n",
    "    gdal_dtype\n",
    "\n",
    "    Returns\n",
    "    -------\n",
    "\n",
    "    \"\"\"\n",
    "    if gdal_dtype == gdal.GDT_Byte:\n",
    "        return np.uint8\n",
    "    elif gdal_dtype == gdal.GDT_UInt16:\n",
    "        return np.uint16\n",
    "    elif gdal_dtype == gdal.GDT_UInt32:\n",
    "        return np.uint32\n",
    "    elif gdal_dtype == gdal.GDT_Int16:\n",
    "        return np.int16\n",
    "    elif gdal_dtype == gdal.GDT_Int32:\n",
    "        return np.int32\n",
    "    elif gdal_dtype == gdal.GDT_Float32:\n",
    "        return np.float32\n",
    "    elif gdal_dtype == gdal.GDT_Float64:\n",
    "        return np.float64\n",
    "    elif gdal_dtype == gdal.GDT_CFloat32:\n",
    "        return np.complex64\n",
    "    elif gdal_dtype == gdal.GDT_CFloat64:\n",
    "        return np.complex128\n",
    "    else:\n",
    "        raise ValueError(\"Invalid dtype provided\")\n",
    "        \n",
    "class Raster:\n",
    "    def __init__(self, file_path):\n",
    "        #lets check to make sure the file path is a string, and then that it is a real file\n",
    "        if not isinstance(file_path, str):\n",
    "            raise TypeError(\"item provided to Raster Class is not a string\")\n",
    "        if not os.path.isfile(file_path):\n",
    "            raise IOError(\"File provided is not real.\")\n",
    "            \n",
    "        # Now lets define some class variables\n",
    "        self.file_path = file_path\n",
    "        \n",
    "        #lets open the file path as a dataset -- we don't want this being held open so we won't declare the dataset as a class variable\n",
    "        ds = gdal.Open(self.file_path, GA_ReadOnly)\n",
    "        \n",
    "        self.cols = ds.RasterXSize\n",
    "        self.rows = ds.RasterYSize\n",
    "        self.n_bands = ds.RasterCount\n",
    "        self.prj = ds.GetProjection()\n",
    "        self.gt = ds.GetGeoTransform()\n",
    "        self.gdal_dtype = ds.GetRasterBand(1).DataType\n",
    "        self.np_dtype = gdal_dtype_to_numpy(self.gdal_dtype)\n",
    "        \n",
    "        if self.n_bands == 1:\n",
    "            self.shape = (self.rows, self.cols)\n",
    "        else:\n",
    "            self.shape = (self.n_bands, self.rows, self.cols)\n",
    "        \n",
    "        #close the dataset\n",
    "        del ds\n",
    "        \n",
    "        \n",
    "    # Now lets add the functions from above as methods... some of these we won't need as they are already class variables\n",
    "    def get_bbox(self):\n",
    "        ulx = self.gt[0]\n",
    "        uly = self.gt[3]\n",
    "        lrx = ulx + (self.cols * self.gt[1])\n",
    "        lry = uly + (self.rows * self.gt[5])\n",
    "        \n",
    "        # Return in NWSWE Order\n",
    "        return uly, ulx, lry, lrx\n",
    "    \n",
    "    def read_all(self):\n",
    "        ds = gdal.Open(self.file_path, GA_ReadOnly)\n",
    "        array = np.array([ds.GetRasterBand(i + 1).ReadAsArray(0, 0, self.cols, self.rows)\n",
    "                                      for i in range(self.n_bands)])\n",
    "        return array\n",
    "    \n",
    "    def read_subset(self, band_list=None, tp=None, x_off=0, y_off=0, x_win=None, y_win=None):\n",
    "        \n",
    "        ds = gdal.Open(self.file_path, GA_ReadOnly)\n",
    "        \n",
    "        if ds is None:\n",
    "            raise IOError(\"bad path\")\n",
    "        ### Check optional arguments to make sure they are all valid -- LETS RAISE SOME ERRORS ###\n",
    "\n",
    "        # BAND_LIST needs to be a list of integers, even if it is only 1 band.\n",
    "        # First check to see if it was supplied - if not, make band_list all the bands               \n",
    "        if band_list is None:\n",
    "            band_list = [i+1 for i in range(self.n_bands)]\n",
    "\n",
    "        # now that we have solved the None case, make sure band_list is a list not an int/tuple/etc.\n",
    "        if not isinstance(band_list, list):\n",
    "            raise TypeError(\"band_list is not a list - even single bands need to go in a list\")\n",
    "\n",
    "        # ds.GetRasterBand() starts counting at 1 so lets make sure the list doesn't have a 0.\n",
    "        if 0 in band_list:\n",
    "            raise ValueError(\"band_list contains a 0, please start your list at 1...\")\n",
    "\n",
    "\n",
    "        # Type -- lets make a decision to force users to provdie numpy data types, and then we can change them to gdal\n",
    "        if tp is not None:\n",
    "            try:\n",
    "                gdal_tp = numpy_dtype_to_gdal(tp)\n",
    "            except:\n",
    "                raise TypeError(\"user needs to provide a valid numpy datatype\")\n",
    "\n",
    "        else:\n",
    "            gdal_tp = ds.GetRasterBand(1).DataType\n",
    "\n",
    "        # Lets write down the rules for x_off/y_off\n",
    "        # 1. Must be an Integer (handle w/ ValueError)\n",
    "        # 2. Must not be negative (handle w/ ValueError)\n",
    "        # 3. Must not be greater than rows/columns, respectively(handle w/ ValueError)\n",
    "        if (x_off is None) or (y_off is None):\n",
    "            raise ValueError(\"x_off and y_off cannot be None\")\n",
    "\n",
    "        if (x_off < 0) or (y_off < 0):\n",
    "            raise ValueError(\"x_off and y_off cannot be negative\")\n",
    "\n",
    "        if (x_off >= self.cols) or (y_off >= self.rows):\n",
    "            raise ValueError(\"x_off and y_off cannot be greaterthan/equal to rows/columns\")\n",
    "\n",
    "        # Lets write down the rules for x_window/y_window if not None\n",
    "        # 1. x_window and y_window need to be greater than 0\n",
    "        # 3. x_off + x_window and y_off + y_window need to be less than cols/rows (handle with ValueError)\n",
    "\n",
    "        if x_win is None:\n",
    "            x_win = self.cols - x_off\n",
    "        if y_win is None:\n",
    "            y_win = self.rows - y_off\n",
    "\n",
    "        if (x_win <= 0) or (y_win <= 0):\n",
    "            raise ValueError(\"x_window and y_window must be greater than 0\")\n",
    "        if ((x_off + x_win) > self.cols) or ((y_off + y_win) > self.rows):\n",
    "            raise ValueError(\" x_off + x_window and y_off + y_window need to be less than cols/rows\")\n",
    "\n",
    "\n",
    "        array = np.array([ds.GetRasterBand(i).ReadAsArray(x_off, y_off,\n",
    "                                                          x_win, y_win,\n",
    "                                                          buf_type=gdal_tp) for i in band_list])\n",
    "        if array.shape[0] == 1:\n",
    "            return array[0]\n",
    "        else:\n",
    "            return array\n",
    "        "
   ]
  },
  {
   "cell_type": "code",
   "execution_count": 17,
   "metadata": {},
   "outputs": [],
   "source": [
    "ras = Raster(imgf)"
   ]
  },
  {
   "cell_type": "code",
   "execution_count": 18,
   "metadata": {},
   "outputs": [
    {
     "data": {
      "text/plain": [
       "['__class__',\n",
       " '__delattr__',\n",
       " '__dict__',\n",
       " '__dir__',\n",
       " '__doc__',\n",
       " '__eq__',\n",
       " '__format__',\n",
       " '__ge__',\n",
       " '__getattribute__',\n",
       " '__gt__',\n",
       " '__hash__',\n",
       " '__init__',\n",
       " '__init_subclass__',\n",
       " '__le__',\n",
       " '__lt__',\n",
       " '__module__',\n",
       " '__ne__',\n",
       " '__new__',\n",
       " '__reduce__',\n",
       " '__reduce_ex__',\n",
       " '__repr__',\n",
       " '__setattr__',\n",
       " '__sizeof__',\n",
       " '__str__',\n",
       " '__subclasshook__',\n",
       " '__weakref__',\n",
       " 'cols',\n",
       " 'file_path',\n",
       " 'gdal_dtype',\n",
       " 'get_bbox',\n",
       " 'gt',\n",
       " 'n_bands',\n",
       " 'np_dtype',\n",
       " 'prj',\n",
       " 'read_all',\n",
       " 'read_subset',\n",
       " 'rows',\n",
       " 'shape']"
      ]
     },
     "execution_count": 18,
     "metadata": {},
     "output_type": "execute_result"
    }
   ],
   "source": [
    "dir(ras)"
   ]
  },
  {
   "cell_type": "code",
   "execution_count": null,
   "metadata": {},
   "outputs": [],
   "source": []
  },
  {
   "cell_type": "markdown",
   "metadata": {},
   "source": [
    "# Homework"
   ]
  },
  {
   "cell_type": "code",
   "execution_count": null,
   "metadata": {},
   "outputs": [],
   "source": [
    " # Do the process for a vector file... lay out functions, and then combine them into a class at the end"
   ]
  },
  {
   "cell_type": "code",
   "execution_count": null,
   "metadata": {},
   "outputs": [],
   "source": []
  }
 ],
 "metadata": {
  "kernelspec": {
   "display_name": "Python 3",
   "language": "python",
   "name": "python3"
  },
  "language_info": {
   "codemirror_mode": {
    "name": "ipython",
    "version": 3
   },
   "file_extension": ".py",
   "mimetype": "text/x-python",
   "name": "python",
   "nbconvert_exporter": "python",
   "pygments_lexer": "ipython3",
   "version": "3.7.2"
  }
 },
 "nbformat": 4,
 "nbformat_minor": 2
}
