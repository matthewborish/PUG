{
 "cells": [
  {
   "cell_type": "code",
   "execution_count": 1,
   "metadata": {},
   "outputs": [],
   "source": [
    "import os\n",
    "import sys\n",
    "import ogr\n",
    "from gdalconst import *\n",
    "import gdal as gdal\n",
    "import numpy as np\n",
    "import matplotlib.pyplot as plt"
   ]
  },
  {
   "cell_type": "code",
   "execution_count": 2,
   "metadata": {},
   "outputs": [],
   "source": [
    "# Create path to data directory, make sure it exists\n",
    "data_dir = os.path.join(os.path.normpath(os.getcwd() + os.sep + os.pardir),\"Data\")\n",
    "assert os.path.isdir"
   ]
  },
  {
   "cell_type": "code",
   "execution_count": 3,
   "metadata": {},
   "outputs": [],
   "source": [
    "# Define paths to image file and shape files + make sure it exists\n",
    "shpf = os.path.join(data_dir, \"Random_Buffers.shp\")\n",
    "assert os.path.isfile(shpf)"
   ]
  },
  {
   "cell_type": "markdown",
   "metadata": {},
   "source": [
    "# Reading Vector Data"
   ]
  },
  {
   "cell_type": "code",
   "execution_count": 4,
   "metadata": {},
   "outputs": [
    {
     "name": "stdout",
     "output_type": "stream",
     "text": [
      "1\n"
     ]
    }
   ],
   "source": [
    "# Create the Data Source\n",
    "ds = ogr.Open(shpf, GA_ReadOnly)\n",
    "\n",
    "# Check how many layers there are in the shapefile\n",
    "# Most shapefiles should only have 1 layer... it \n",
    "# is \"probably\" safe to assume this is true \n",
    "print(ds.GetLayerCount())\n",
    "\n",
    "# Create layer from first (only) layer in file\n",
    "lyr = ds.GetLayer(0)  "
   ]
  },
  {
   "cell_type": "code",
   "execution_count": 5,
   "metadata": {},
   "outputs": [
    {
     "name": "stdout",
     "output_type": "stream",
     "text": [
      "3\n",
      "15\n"
     ]
    }
   ],
   "source": [
    "# Check what geometry this shapefile contains\n",
    "# Geometry Types:  1:Point, 2:Line, 3:Polygon, 4:MultiPoint, 5:MultiLineString, 6:MultiPolygon\n",
    "print(lyr.GetGeomType())\n",
    "\n",
    "# Check how many records/features are in this layer\n",
    "print(lyr.GetFeatureCount())"
   ]
  },
  {
   "cell_type": "code",
   "execution_count": 6,
   "metadata": {},
   "outputs": [],
   "source": [
    "# Access a single feature\n",
    "feat = lyr.GetFeature(0)  #Integer provided will access the record with that FID"
   ]
  },
  {
   "cell_type": "code",
   "execution_count": 7,
   "metadata": {},
   "outputs": [
    {
     "data": {
      "text/plain": [
       "(493974.4250881527, 494174.4250881527, 5024103.2308988795, 5024303.2308988795)"
      ]
     },
     "execution_count": 7,
     "metadata": {},
     "output_type": "execute_result"
    }
   ],
   "source": [
    "# Get Envleope from feature\n",
    "feat.geometry().GetEnvelope()"
   ]
  },
  {
   "cell_type": "code",
   "execution_count": 8,
   "metadata": {},
   "outputs": [],
   "source": [
    "# Get geometry of feature -- figure out why this is weird\n",
    "geof = feat.GetGeometryRef()\n",
    "ring = geof.GetGeometryRef(0)"
   ]
  },
  {
   "cell_type": "code",
   "execution_count": 9,
   "metadata": {},
   "outputs": [],
   "source": [
    "# put points in an array\n",
    "circle = np.array([x for x in ring.GetPoints()])"
   ]
  },
  {
   "cell_type": "code",
   "execution_count": 10,
   "metadata": {},
   "outputs": [
    {
     "data": {
      "image/png": "[encoded data removed]",
      "text/plain": [
       "<Figure size 432x288 with 1 Axes>"
      ]
     },
     "metadata": {
      "needs_background": "light"
     },
     "output_type": "display_data"
    }
   ],
   "source": [
    "# Plot this shit\n",
    "plt.scatter(circle[:,0], circle[:,1])\n",
    "plt.axis('equal')\n",
    "plt.show()"
   ]
  },
  {
   "cell_type": "code",
   "execution_count": 11,
   "metadata": {},
   "outputs": [],
   "source": [
    "# Scatter plots are cool... but what if i want to use this with raster data...\n",
    "# Steps are as follows\n",
    "# 1. Find offset from UL of raster to UL of vector envelope\n",
    "# 2. Create Memory Driver + memory layer for cloned vector feature\n",
    "# 3. Clone the vector feature to the memory layer\n",
    "# 4. Create a memory driver + layer for the newly rasterized polygon\n",
    "# 5. Calculate geotransform for new in-memory raster feature\n",
    "# 6. Use built in function to rasterize vector to in-memory raster layer"
   ]
  },
  {
   "cell_type": "code",
   "execution_count": 12,
   "metadata": {},
   "outputs": [],
   "source": [
    "# Create path to data directory, make sure it exists\n",
    "data_dir = os.path.join(os.path.normpath(os.getcwd() + os.sep + os.pardir),\"Data\")\n",
    "assert os.path.isdir\n",
    "\n",
    "# Define paths to image file and shape files + make sure it exists\n",
    "imgf = os.path.join(data_dir, \"PDX_DEM_WGS84_UTM10N_Zm_INT16.tif\")\n",
    "assert os.path.isfile(imgf)\n",
    "\n",
    "# Open Raster Dataset\n",
    "ds = gdal.Open(imgf, GA_ReadOnly)"
   ]
  },
  {
   "cell_type": "code",
   "execution_count": 13,
   "metadata": {},
   "outputs": [],
   "source": [
    "# Get geotransform for raster\n",
    "ogt = ds.GetGeoTransform()\n",
    "# Unpack geotransform so we don't have to remember index labels\n",
    "origin_x, pixel_width, _, origin_y, _, pixel_height = ogt\n",
    "\n",
    "# Get Envelope from polygon\n",
    "bbox = feat.geometry().GetEnvelope()\n",
    "\n",
    "#Determine distance in x/y (respectively) from envelope UL\n",
    "# Then scale by pixel size to give raster index location \n",
    "# of upper left corner of envelope\n",
    "x1 = int(round((bbox[0] - origin_x) / pixel_width))\n",
    "x2 = int(round((bbox[1] - origin_x) / pixel_width))\n",
    "\n",
    "# Do the same calculation to find the LR corner of the \n",
    "# envelope in raster index coordinate\n",
    "y1 = int(round((bbox[3] - origin_y) / pixel_height))\n",
    "y2 = int(round((bbox[2] - origin_y) / pixel_height))\n",
    "\n",
    "# Subtract to find width(xsize) and height(ysize)\n",
    "xsize = x2 - x1\n",
    "ysize = y2 - y1\n",
    "\n",
    "# src_offset = [x1, y1, xsize, ysize]\n",
    "# Print ULxy\n",
    "# Print new array dimensions"
   ]
  },
  {
   "cell_type": "code",
   "execution_count": 14,
   "metadata": {},
   "outputs": [],
   "source": [
    "# Create memory driver\n",
    "mem_drv = ogr.GetDriverByName('Memory')\n",
    "\n",
    "# Get the driver by\n",
    "driver = gdal.GetDriverByName('MEM')"
   ]
  },
  {
   "cell_type": "code",
   "execution_count": null,
   "metadata": {},
   "outputs": [],
   "source": [
    "# Create a blank dataset object using the memory driver\n",
    "mem_ds = mem_drv.CreateDataSource('out')\n",
    "\n",
    "# Create a blank layer object using the spatial reference of the original vector file\n",
    "mem_layer = mem_ds.CreateLayer('poly', lyr.GetSpatialRef(), ogr.wkbPolygon)\n",
    "\n",
    "# Clone the feature (selected above using the fid or a record)\n",
    "mem_layer.CreateFeature(feature.Clone())\n",
    "\n",
    "# Create a blank raster dataset object using the calculated array size from above\n",
    "rvds = driver.Create('', xsize, ysize, 1, gdal.GDT_Byte)\n",
    "\n",
    "# calculate a new geotransform for the created raster using the original geotransform,\n",
    "# and the offsets calculated from the vector envelope. \n",
    "# Note: we aren't scaling the raster, so we can use the original pixel width/height values\n",
    "new_ulx = origin_x + (x1 * pixel_width)\n",
    "new_uly = origin_y + (y1 * pixel_height)\n",
    "ngt = (new_ulx, pixel_width, 0.0, new_uly, 0.0, pixel_height)\n",
    "\n",
    "# Set the geotransform of the blank raster dataset\n",
    "rvds.SetGeoTransform(ngt)\n",
    "\n",
    "# use gdal function to burn in values to pixels inside the vector we are trying to rasterize\n",
    "### Function needs dataset, band of dataset to burn to, and the vector layer used for burning, \n",
    "### optionally you can specify the value you want burnt into the raster\n",
    "gdal.RasterizeLayer(rvds, [1], mem_layer, burn_values=[1])\n",
    "\n",
    "# Read data from newly created raster into a numpy array\n",
    "rv_array = rvds.ReadAsArray()"
   ]
  },
  {
   "cell_type": "code",
   "execution_count": 16,
   "metadata": {},
   "outputs": [],
   "source": [
    "# Plot just the rasterized vector\n",
    "# Use indexing to plot the portion of the dem that is \"underneath\" the rasterized vector\n",
    "# Create a blank array the size of the dem, use indexing to \"insert\" the rasterized vector "
   ]
  },
  {
   "cell_type": "code",
   "execution_count": 17,
   "metadata": {},
   "outputs": [],
   "source": [
    "#lyr.GetSpatialRef()"
   ]
  },
  {
   "cell_type": "code",
   "execution_count": 18,
   "metadata": {},
   "outputs": [
    {
     "data": {
      "text/plain": [
       "['AlterFieldDefn',\n",
       " 'Clip',\n",
       " 'CommitTransaction',\n",
       " 'CreateFeature',\n",
       " 'CreateField',\n",
       " 'CreateFields',\n",
       " 'CreateGeomField',\n",
       " 'DeleteFeature',\n",
       " 'DeleteField',\n",
       " 'Dereference',\n",
       " 'Erase',\n",
       " 'FindFieldIndex',\n",
       " 'GetDescription',\n",
       " 'GetExtent',\n",
       " 'GetFIDColumn',\n",
       " 'GetFeature',\n",
       " 'GetFeatureCount',\n",
       " 'GetFeaturesRead',\n",
       " 'GetGeomType',\n",
       " 'GetGeometryColumn',\n",
       " 'GetLayerDefn',\n",
       " 'GetMetadata',\n",
       " 'GetMetadataDomainList',\n",
       " 'GetMetadataItem',\n",
       " 'GetMetadata_Dict',\n",
       " 'GetMetadata_List',\n",
       " 'GetName',\n",
       " 'GetNextFeature',\n",
       " 'GetRefCount',\n",
       " 'GetSpatialFilter',\n",
       " 'GetSpatialRef',\n",
       " 'GetStyleTable',\n",
       " 'Identity',\n",
       " 'Intersection',\n",
       " 'Reference',\n",
       " 'ReorderField',\n",
       " 'ReorderFields',\n",
       " 'ResetReading',\n",
       " 'RollbackTransaction',\n",
       " 'SetAttributeFilter',\n",
       " 'SetDescription',\n",
       " 'SetFeature',\n",
       " 'SetIgnoredFields',\n",
       " 'SetMetadata',\n",
       " 'SetMetadataItem',\n",
       " 'SetNextByIndex',\n",
       " 'SetSpatialFilter',\n",
       " 'SetSpatialFilterRect',\n",
       " 'SetStyleTable',\n",
       " 'StartTransaction',\n",
       " 'SymDifference',\n",
       " 'SyncToDisk',\n",
       " 'TestCapability',\n",
       " 'Union',\n",
       " 'Update',\n",
       " '__bool__',\n",
       " '__class__',\n",
       " '__delattr__',\n",
       " '__dict__',\n",
       " '__dir__',\n",
       " '__doc__',\n",
       " '__eq__',\n",
       " '__format__',\n",
       " '__ge__',\n",
       " '__getattr__',\n",
       " '__getattribute__',\n",
       " '__getitem__',\n",
       " '__gt__',\n",
       " '__hash__',\n",
       " '__init__',\n",
       " '__init_subclass__',\n",
       " '__iter__',\n",
       " '__le__',\n",
       " '__len__',\n",
       " '__lt__',\n",
       " '__module__',\n",
       " '__ne__',\n",
       " '__new__',\n",
       " '__next__',\n",
       " '__nonzero__',\n",
       " '__reduce__',\n",
       " '__reduce_ex__',\n",
       " '__repr__',\n",
       " '__setattr__',\n",
       " '__sizeof__',\n",
       " '__str__',\n",
       " '__subclasshook__',\n",
       " '__swig_getmethods__',\n",
       " '__swig_setmethods__',\n",
       " '__weakref__',\n",
       " '_s',\n",
       " 'schema',\n",
       " 'this']"
      ]
     },
     "execution_count": 18,
     "metadata": {},
     "output_type": "execute_result"
    }
   ],
   "source": [
    "dir(lyr)"
   ]
  },
  {
   "cell_type": "code",
   "execution_count": null,
   "metadata": {},
   "outputs": [],
   "source": []
  },
  {
   "cell_type": "code",
   "execution_count": null,
   "metadata": {},
   "outputs": [],
   "source": []
  },
  {
   "cell_type": "code",
   "execution_count": null,
   "metadata": {},
   "outputs": [],
   "source": []
  }
 ],
 "metadata": {
  "kernelspec": {
   "display_name": "Python 3",
   "language": "python",
   "name": "python3"
  },
  "language_info": {
   "codemirror_mode": {
    "name": "ipython",
    "version": 3
   },
   "file_extension": ".py",
   "mimetype": "text/x-python",
   "name": "python",
   "nbconvert_exporter": "python",
   "pygments_lexer": "ipython3",
   "version": "3.7.2"
  }
 },
 "nbformat": 4,
 "nbformat_minor": 2
}
